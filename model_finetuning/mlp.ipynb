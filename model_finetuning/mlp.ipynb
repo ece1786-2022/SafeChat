{
  "nbformat": 4,
  "nbformat_minor": 0,
  "metadata": {
    "colab": {
      "provenance": [],
      "machine_shape": "hm"
    },
    "kernelspec": {
      "name": "python3",
      "display_name": "Python 3"
    },
    "language_info": {
      "name": "python"
    },
    "accelerator": "GPU",
    "gpuClass": "premium"
  },
  "cells": [
    {
      "cell_type": "code",
      "source": [
        "from google.colab import drive\n",
        "drive.mount('/content/drive')\n",
        "%cd /content/drive/MyDrive/ECE1786_dataset/"
      ],
      "metadata": {
        "colab": {
          "base_uri": "https://localhost:8080/"
        },
        "id": "GqRIEEQManhy",
        "outputId": "53f8d8ab-b967-4560-e597-8aa37f184e74"
      },
      "execution_count": null,
      "outputs": [
        {
          "output_type": "stream",
          "name": "stdout",
          "text": [
            "Drive already mounted at /content/drive; to attempt to forcibly remount, call drive.mount(\"/content/drive\", force_remount=True).\n",
            "/content/drive/MyDrive/ECE1786_dataset\n"
          ]
        }
      ]
    },
    {
      "cell_type": "code",
      "source": [
        "!ls\n",
        "!pwd"
      ],
      "metadata": {
        "colab": {
          "base_uri": "https://localhost:8080/"
        },
        "id": "YUCOv10PfWAi",
        "outputId": "42847ee1-1a50-4438-9218-e76f71214785"
      },
      "execution_count": null,
      "outputs": [
        {
          "output_type": "stream",
          "name": "stdout",
          "text": [
            "final_dataset_suicide_test_10_openai_prepared.jsonl\n",
            "final_dataset_suicide_test_huggingface.csv\n",
            "final_dataset_suicide_train_huggingface.csv\n",
            "mlp.pt\n",
            "/content/drive/MyDrive/ECE1786_dataset\n"
          ]
        }
      ]
    },
    {
      "cell_type": "code",
      "execution_count": null,
      "metadata": {
        "id": "sTIC_otwmM0w"
      },
      "outputs": [],
      "source": [
        "import torch\n",
        "import torchtext\n",
        "from torchtext import data\n",
        "import torch.optim as optim\n",
        "import argparse\n",
        "import os\n",
        "import pandas as pd\n",
        "import matplotlib.pyplot as plt"
      ]
    },
    {
      "cell_type": "markdown",
      "source": [
        "## Dataset\n",
        "\n",
        "This section defines the dataset structure for training, testing and validation."
      ],
      "metadata": {
        "id": "Q8Afmo9GmeLd"
      }
    },
    {
      "cell_type": "code",
      "source": [
        "# TextDataset is Described in Section 3.3 of Assignment 2\n",
        "\n",
        "class TextDataset(torch.utils.data.Dataset):\n",
        "    def __init__(self, vocab, data_path):\n",
        "        df = pd.read_csv(data_path)\n",
        "\n",
        "        # X: torch.tensor (maxlen, batch_size), padded indices\n",
        "        # Y: torch.tensor of len N\n",
        "        X, Y = [], []\n",
        "        V = len(vocab.vectors)\n",
        "        for i, row in df.iterrows():\n",
        "            L = row[\"prompt\"].split()\n",
        "            X.append(torch.tensor([vocab.stoi.get(w, V-1) for w in L]))  # Use the last word in the vocab as the \"out-of-vocabulary\" token\n",
        "            Y.append(1 if row.completion == 'suicide' else 0)\n",
        "        self.X = X \n",
        "        self.Y = torch.tensor(Y)\n",
        "        \n",
        "    def __len__(self):\n",
        "        return len(self.X)\n",
        "\n",
        "    def __getitem__(self, idx):\n",
        "        return self.X[idx], self.Y[idx] \n",
        "    \n",
        "# my_collate_function prepares batches\n",
        "# it also pads each batch with zeroes.\n",
        "\n",
        "def my_collate_function(batch, device):\n",
        "    # Handle the padding here\n",
        "    # batch is approximately: [dataset[i] for i in range(0, batch_size)]\n",
        "    # Since the dataset[i]'s contents is defined in the __getitem__() above, this collate function \n",
        "    # should be set correspondingly.\n",
        "    # Also: collate_function just takes one argument. To pass in additional arguments (e.g., device), \n",
        "    # we need to wrap up an anonymous function (using lambda below)\n",
        "    batch_x, batch_y = [], []\n",
        "    max_len = 0\n",
        "    for x,y in batch:\n",
        "        batch_y.append(y)\n",
        "        max_len = max(max_len, len(x))\n",
        "    for x,y in batch:\n",
        "        x_p = torch.concat(\n",
        "            [x, torch.zeros(max_len - len(x))]\n",
        "        )\n",
        "        batch_x.append(x_p)\n",
        "    return torch.stack(batch_x).t().int().to(device), torch.tensor(batch_y).to(device)"
      ],
      "metadata": {
        "id": "WKLqjmhpmSfI"
      },
      "execution_count": null,
      "outputs": []
    },
    {
      "cell_type": "markdown",
      "source": [
        "## load dataset\n",
        "Please run this section before next step. This section creates datasets, find the proper device and download the word vectors. Before loading data, set batch size to 5 (it balances training speed and loss)."
      ],
      "metadata": {
        "id": "_P8qVO1xmoCD"
      }
    },
    {
      "cell_type": "code",
      "source": [
        "# batch size\n",
        "batch_size = 128"
      ],
      "metadata": {
        "id": "nWtYCJ3HnW5E"
      },
      "execution_count": null,
      "outputs": []
    },
    {
      "cell_type": "code",
      "source": [
        "torch.manual_seed(2)\n",
        "\n",
        "device = torch.device('cuda' if torch.cuda.is_available() else 'cpu')\n",
        "print (\"Using device:\", device)\n",
        "\n",
        "### Processing of the data ###\n",
        "glove = torchtext.vocab.GloVe(name=\"6B\",dim=100) # embedding size = 100\n",
        "                            \n",
        "\n",
        "train_dataset = TextDataset(glove, 'final_dataset_suicide_train_huggingface.csv')\n",
        "val_dataset = TextDataset(glove, 'final_dataset_suicide_test_huggingface.csv')\n",
        "\n",
        "train_dataloader = torch.utils.data.DataLoader(\n",
        "dataset=train_dataset, \n",
        "batch_size=batch_size, \n",
        "shuffle=False, \n",
        "collate_fn=lambda batch: my_collate_function(batch, device))\n",
        "\n",
        "validation_dataloader = torch.utils.data.DataLoader(\n",
        "dataset=val_dataset, \n",
        "batch_size=batch_size, \n",
        "shuffle=False, \n",
        "collate_fn=lambda batch: my_collate_function(batch, device))"
      ],
      "metadata": {
        "colab": {
          "base_uri": "https://localhost:8080/"
        },
        "id": "rp6GloM4mwn_",
        "outputId": "1881767e-c8be-4e20-c18e-c0513404b477"
      },
      "execution_count": null,
      "outputs": [
        {
          "output_type": "stream",
          "name": "stdout",
          "text": [
            "Using device: cuda\n"
          ]
        }
      ]
    },
    {
      "cell_type": "markdown",
      "source": [
        "## Model\n",
        "This section defines the baseline model."
      ],
      "metadata": {
        "id": "KG806G4a_k-c"
      }
    },
    {
      "cell_type": "code",
      "source": [
        "class BaselineModel(torch.nn.Module):\n",
        "    def __init__(self) -> None:\n",
        "        super().__init__()\n",
        "\n",
        "        self.embedding = torch.nn.Embedding.from_pretrained(glove.vectors)\n",
        "        self.linear = torch.nn.Linear(\n",
        "            in_features=glove.vectors.shape[1],\n",
        "            out_features=1\n",
        "        )\n",
        "\n",
        "    def forward(self, x):\n",
        "        e = self.embedding(x)\n",
        "        preds = self.linear(e.mean(axis=0))\n",
        "        return preds.squeeze(dim=1)"
      ],
      "metadata": {
        "id": "ngrabJ2_DxOq"
      },
      "execution_count": null,
      "outputs": []
    },
    {
      "cell_type": "markdown",
      "source": [
        "## Train\n",
        "\n",
        "A training loop to train the model with hyperparameters and components, it returns the trained model and validation loss/accuracy for each epoch for graphing."
      ],
      "metadata": {
        "id": "f8ATbSPvad1B"
      }
    },
    {
      "cell_type": "code",
      "source": [
        "def train_baseline(num_epoch=50, lr=5e-5, train_dataloader=train_dataloader):\n",
        "    network = BaselineModel().to(device)\n",
        "    optimizer = torch.optim.Adam(network.parameters(), lr=lr)\n",
        "    loss_fn = torch.nn.BCEWithLogitsLoss()\n",
        "\n",
        "    train_losses, validation_losses = [], []\n",
        "    train_accs, validation_accs = [], []\n",
        "    for epoch in range(num_epoch):\n",
        "        epoch_train_loss = 0\n",
        "        epoch_validation_loss = 0\n",
        "        epoch_train_acc = 0\n",
        "        epoch_validation_acc = 0\n",
        "        for X, y in train_dataloader:\n",
        "            network.train()\n",
        "            optimizer.zero_grad()\n",
        "            predictions = network(X)\n",
        "            loss = loss_fn(predictions, y.float())\n",
        "            loss.backward()\n",
        "            optimizer.step()\n",
        "            epoch_train_loss += loss.item()\n",
        "\n",
        "            preds = (torch.sigmoid(predictions) > 0.5).float()\n",
        "            epoch_train_acc += ((preds == y).sum() / len(y)).item()\n",
        "        \n",
        "        for X, y in validation_dataloader:\n",
        "            network.eval()\n",
        "            predictions = network(X)\n",
        "            loss = loss_fn(predictions, y.float())\n",
        "            epoch_validation_loss += loss.item()\n",
        "            \n",
        "            preds = (torch.sigmoid(predictions) > 0.5).float()\n",
        "            epoch_validation_acc += ((preds == y).sum() / len(y)).item()\n",
        "\n",
        "        epoch_train_loss /= len(train_dataloader)\n",
        "        epoch_validation_loss /= len(validation_dataloader)\n",
        "        epoch_train_acc /= len(train_dataloader)\n",
        "        epoch_validation_acc /= len(validation_dataloader)\n",
        "\n",
        "        train_losses.append(epoch_train_loss)\n",
        "        validation_losses.append(epoch_validation_loss)\n",
        "        train_accs.append(epoch_train_acc)\n",
        "        validation_accs.append(epoch_validation_acc)\n",
        "\n",
        "        print(\"epoch {} train loss: \".format(epoch), epoch_train_loss)\n",
        "        print(\"epoch {} validation loss: \".format(epoch), epoch_validation_loss)\n",
        "        print(\"epoch {} train acc: \".format(epoch), epoch_train_acc)\n",
        "        print(\"epoch {} validation acc: \".format(epoch), epoch_validation_acc)\n",
        "\n",
        "    print('Finished Training')\n",
        "\n",
        "    return network, train_losses, validation_losses, train_accs, validation_accs"
      ],
      "metadata": {
        "id": "Y5r6yarBadFc"
      },
      "execution_count": null,
      "outputs": []
    },
    {
      "cell_type": "markdown",
      "source": [
        "## 4.5 Full Training Data\n",
        "\n",
        "Train a model with required hyperparameters (5 epochs, learning rate 0.00001) and the train dataset. Then plot the train and validation accruacy/loss. After training, this section tests the accuracy and loss on the test dataset."
      ],
      "metadata": {
        "id": "dl6G7c42loED"
      }
    },
    {
      "cell_type": "code",
      "source": [
        "network, train_losses, validation_losses, train_accs, validation_accs = train_baseline()"
      ],
      "metadata": {
        "colab": {
          "base_uri": "https://localhost:8080/"
        },
        "id": "ROb2arj1U_Zz",
        "outputId": "95fae502-f46f-417f-e5af-4eaa09b1ed83"
      },
      "execution_count": null,
      "outputs": [
        {
          "output_type": "stream",
          "name": "stdout",
          "text": [
            "epoch 0 train loss:  0.6976477310159132\n",
            "epoch 0 validation loss:  0.6891030417971833\n",
            "epoch 0 train acc:  0.5019060643762893\n",
            "epoch 0 validation acc:  0.5147800032309321\n",
            "epoch 1 train loss:  0.6832007911634203\n",
            "epoch 1 validation loss:  0.6776875231501668\n",
            "epoch 1 train acc:  0.5584976929691007\n",
            "epoch 1 validation acc:  0.583599075328472\n",
            "epoch 2 train loss:  0.6722590291665057\n",
            "epoch 2 validation loss:  0.6674776125785916\n",
            "epoch 2 train acc:  0.6145808500090569\n",
            "epoch 2 validation acc:  0.6235715717423794\n",
            "epoch 3 train loss:  0.662602363584342\n",
            "epoch 3 validation loss:  0.6585523219302644\n",
            "epoch 3 train acc:  0.6426785375545777\n",
            "epoch 3 validation acc:  0.6454514271991197\n",
            "epoch 4 train loss:  0.6541735998748952\n",
            "epoch 4 validation loss:  0.6507745234425678\n",
            "epoch 4 train acc:  0.6587965226659614\n",
            "epoch 4 validation acc:  0.6593958312688872\n",
            "epoch 5 train loss:  0.6468159458711906\n",
            "epoch 5 validation loss:  0.6439804284032001\n",
            "epoch 5 train acc:  0.6691297346106082\n",
            "epoch 5 validation acc:  0.6686070005214492\n",
            "epoch 6 train loss:  0.6403709001898852\n",
            "epoch 6 validation loss:  0.6380202865531278\n",
            "epoch 6 train acc:  0.6757188642537255\n",
            "epoch 6 validation acc:  0.6743074002307515\n",
            "epoch 7 train loss:  0.6346987373448599\n",
            "epoch 7 validation loss:  0.6327656776059506\n",
            "epoch 7 train acc:  0.681268525054137\n",
            "epoch 7 validation acc:  0.6800077999400538\n",
            "epoch 8 train loss:  0.6296812085365606\n",
            "epoch 8 validation loss:  0.628109177531198\n",
            "epoch 8 train acc:  0.6855929970133504\n",
            "epoch 8 validation acc:  0.684799769416798\n",
            "epoch 9 train loss:  0.6252198523183157\n",
            "epoch 9 validation loss:  0.6239617089199465\n",
            "epoch 9 train acc:  0.6889690416447889\n",
            "epoch 9 validation acc:  0.6883199365679608\n",
            "epoch 10 train loss:  0.6212331793296103\n",
            "epoch 10 validation loss:  0.6202497035264969\n",
            "epoch 10 train acc:  0.6922294658982484\n",
            "epoch 10 validation acc:  0.6915221531377282\n",
            "epoch 11 train loss:  0.6176538539905229\n",
            "epoch 11 validation loss:  0.6169122849092927\n",
            "epoch 11 train acc:  0.6948107157583577\n",
            "epoch 11 validation acc:  0.694542683660984\n",
            "epoch 12 train loss:  0.6144260563558674\n",
            "epoch 12 validation loss:  0.6138989684540171\n",
            "epoch 12 train acc:  0.6970696833475784\n",
            "epoch 12 validation acc:  0.6962459903470305\n",
            "epoch 13 train loss:  0.6115034108863464\n",
            "epoch 13 validation loss:  0.6111677081085914\n",
            "epoch 13 train acc:  0.6988905136461946\n",
            "epoch 13 validation acc:  0.6980628508121468\n",
            "epoch 14 train loss:  0.6088471323230018\n",
            "epoch 14 validation loss:  0.6086832375027412\n",
            "epoch 14 train acc:  0.7006203024298799\n",
            "epoch 14 validation acc:  0.6998570005214492\n",
            "epoch 15 train loss:  0.6064246608580626\n",
            "epoch 15 validation loss:  0.6064158830531808\n",
            "epoch 15 train acc:  0.7021566279943373\n",
            "epoch 15 validation acc:  0.7010379598237747\n",
            "epoch 16 train loss:  0.6042084484228841\n",
            "epoch 16 validation loss:  0.6043404567726823\n",
            "epoch 16 train acc:  0.7034557880664167\n",
            "epoch 16 validation acc:  0.7024460266842398\n",
            "epoch 17 train loss:  0.6021750726060805\n",
            "epoch 17 validation loss:  0.602435501162396\n",
            "epoch 17 train acc:  0.7044970753934379\n",
            "epoch 17 validation acc:  0.7035134322074956\n",
            "epoch 18 train loss:  0.6003045112827965\n",
            "epoch 18 validation loss:  0.6006826028920883\n",
            "epoch 18 train acc:  0.7057108840452696\n",
            "epoch 18 validation acc:  0.7044445731958677\n",
            "epoch 19 train loss:  0.5985795216931971\n",
            "epoch 19 validation loss:  0.5990658776704655\n",
            "epoch 19 train acc:  0.7068204525084888\n",
            "epoch 19 validation acc:  0.7055801109865655\n",
            "epoch 20 train loss:  0.5969852025892642\n",
            "epoch 20 validation loss:  0.5975715548319872\n",
            "epoch 20 train acc:  0.7078617398355099\n",
            "epoch 20 validation acc:  0.7065339627307515\n",
            "epoch 21 train loss:  0.5955086135985811\n",
            "epoch 21 validation loss:  0.5961876761947953\n",
            "epoch 21 train acc:  0.7085748201552222\n",
            "epoch 21 validation acc:  0.7073061284284259\n",
            "epoch 22 train loss:  0.594138436263613\n",
            "epoch 22 validation loss:  0.5949036971081135\n",
            "epoch 22 train acc:  0.7094340244523817\n",
            "epoch 22 validation acc:  0.7078738973237747\n",
            "epoch 23 train loss:  0.5928647213188819\n",
            "epoch 23 validation loss:  0.5937103805846946\n",
            "epoch 23 train acc:  0.7101509763824618\n",
            "epoch 23 validation acc:  0.7081918479051701\n",
            "epoch 24 train loss:  0.5916787173438923\n",
            "epoch 24 validation loss:  0.5925995952687985\n",
            "epoch 24 train acc:  0.7108849985965915\n",
            "epoch 24 validation acc:  0.7089185920912165\n",
            "epoch 25 train loss:  0.5905726817039704\n",
            "epoch 25 validation loss:  0.5915640970302183\n",
            "epoch 25 train acc:  0.711454008064909\n",
            "epoch 25 validation acc:  0.7095450956461041\n",
            "epoch 26 train loss:  0.5895397241803216\n",
            "epoch 26 validation loss:  0.5905974308938481\n",
            "epoch 26 train acc:  0.712043959427644\n",
            "epoch 26 validation acc:  0.7102718398321507\n",
            "epoch 27 train loss:  0.588573694120596\n",
            "epoch 27 validation loss:  0.5896938552343568\n",
            "epoch 27 train acc:  0.7125731382331792\n",
            "epoch 27 validation acc:  0.7109531625065693\n",
            "epoch 28 train loss:  0.5876691037733366\n",
            "epoch 28 validation loss:  0.5888482096583344\n",
            "epoch 28 train acc:  0.7131080071333977\n",
            "epoch 28 validation acc:  0.7117253282042437\n",
            "epoch 29 train loss:  0.5868210172401409\n",
            "epoch 29 validation loss:  0.5880558634566706\n",
            "epoch 29 train acc:  0.7134931150875383\n",
            "epoch 29 validation acc:  0.7121568325647089\n",
            "epoch 30 train loss:  0.5860249896988935\n",
            "epoch 30 validation loss:  0.5873126423982686\n",
            "epoch 30 train acc:  0.7139824632302915\n",
            "epoch 30 validation acc:  0.7128154444833135\n",
            "epoch 31 train loss:  0.5852770186304092\n",
            "epoch 31 validation loss:  0.5866147655733797\n",
            "epoch 31 train acc:  0.7143693896687474\n",
            "epoch 31 validation acc:  0.7133605026228483\n",
            "epoch 32 train loss:  0.584573461400794\n",
            "epoch 32 validation loss:  0.5859588031158891\n",
            "epoch 32 train acc:  0.7147904566753024\n",
            "epoch 32 validation acc:  0.7136784532042437\n",
            "epoch 33 train loss:  0.5839110244518636\n",
            "epoch 33 validation loss:  0.5853416457945524\n",
            "epoch 33 train acc:  0.7151147920722434\n",
            "epoch 33 validation acc:  0.7141326683205228\n",
            "epoch 34 train loss:  0.5832867025460801\n",
            "epoch 34 validation loss:  0.5847604585768178\n",
            "epoch 34 train acc:  0.7154391274691844\n",
            "epoch 34 validation acc:  0.7145187511693599\n",
            "epoch 35 train loss:  0.5826977713213988\n",
            "epoch 35 validation loss:  0.584212674651035\n",
            "epoch 35 train acc:  0.7157293222980263\n",
            "epoch 35 validation acc:  0.7151319415763367\n",
            "epoch 36 train loss:  0.5821417316371129\n",
            "epoch 36 validation loss:  0.5836959231731503\n",
            "epoch 36 train acc:  0.7160725464633322\n",
            "epoch 36 validation acc:  0.715449892157732\n",
            "epoch 37 train loss:  0.5816163043210043\n",
            "epoch 37 validation loss:  0.5832080387965192\n",
            "epoch 37 train acc:  0.7163570511974909\n",
            "epoch 37 validation acc:  0.7156088674484298\n",
            "epoch 38 train loss:  0.5811193835882922\n",
            "epoch 38 validation loss:  0.5827470392335293\n",
            "epoch 38 train acc:  0.7169506395288566\n",
            "epoch 38 validation acc:  0.7159949502972669\n",
            "epoch 39 train loss:  0.580649038647876\n",
            "epoch 39 validation loss:  0.5823110901685649\n",
            "epoch 39 train acc:  0.7173091154938966\n",
            "epoch 39 validation acc:  0.7160630825647089\n",
            "epoch 40 train loss:  0.5802035103813193\n",
            "epoch 40 validation loss:  0.5818985250107077\n",
            "epoch 40 train acc:  0.7175993103227386\n",
            "epoch 40 validation acc:  0.7162447686112204\n",
            "epoch 41 train loss:  0.5797811580112358\n",
            "epoch 41 validation loss:  0.5815077916134236\n",
            "epoch 41 train acc:  0.7179179556249965\n",
            "epoch 41 validation acc:  0.7165627191926158\n",
            "epoch 42 train loss:  0.5793804893377308\n",
            "epoch 42 validation loss:  0.5811374782649583\n",
            "epoch 42 train acc:  0.7182081504538383\n",
            "epoch 42 validation acc:  0.7168806697740111\n",
            "epoch 43 train loss:  0.5790001204954996\n",
            "epoch 43 validation loss:  0.5807862543435984\n",
            "epoch 43 train acc:  0.7184983452826803\n",
            "epoch 43 validation acc:  0.7170850665763367\n",
            "epoch 44 train loss:  0.5786387541610137\n",
            "epoch 44 validation loss:  0.5804528999467229\n",
            "epoch 44 train acc:  0.7187373292593737\n",
            "epoch 44 validation acc:  0.7173575956461041\n",
            "epoch 45 train loss:  0.5782951999995627\n",
            "epoch 45 validation loss:  0.5801362914228162\n",
            "epoch 45 train acc:  0.7189535528573344\n",
            "epoch 45 validation acc:  0.7176301247158716\n",
            "epoch 46 train loss:  0.5779683592105902\n",
            "epoch 46 validation loss:  0.5798353779801103\n",
            "epoch 46 train acc:  0.7191128755084633\n",
            "epoch 46 validation acc:  0.7180162075647089\n",
            "epoch 47 train loss:  0.577657203234119\n",
            "epoch 47 validation loss:  0.579549177961294\n",
            "epoch 47 train acc:  0.7193518594851567\n",
            "epoch 47 validation acc:  0.7182660258786623\n",
            "epoch 48 train loss:  0.5773607886410593\n",
            "epoch 48 validation loss:  0.5792768215544002\n",
            "epoch 48 train acc:  0.7196818849767809\n",
            "epoch 48 validation acc:  0.7184250011693599\n",
            "epoch 49 train loss:  0.5770782328442076\n",
            "epoch 49 validation loss:  0.5790174305438995\n",
            "epoch 49 train acc:  0.7199550095215733\n",
            "epoch 49 validation acc:  0.718379579657732\n",
            "Finished Training\n"
          ]
        }
      ]
    },
    {
      "cell_type": "code",
      "source": [
        "num_epoch = 50"
      ],
      "metadata": {
        "id": "DVj8qYoCwSW5"
      },
      "execution_count": null,
      "outputs": []
    },
    {
      "cell_type": "code",
      "source": [
        "plt.figure()\n",
        "plt.plot(range(num_epoch), train_losses, label=\"train loss\")\n",
        "plt.plot(range(num_epoch), validation_losses, label=\"validation loss\")\n",
        "plt.title(\"train/validation loss vs epoch\")\n",
        "plt.xlabel(\"epoch #\")\n",
        "plt.ylabel(\"loss\")\n",
        "plt.legend()"
      ],
      "metadata": {
        "colab": {
          "base_uri": "https://localhost:8080/",
          "height": 312
        },
        "id": "wZqwOIyPvy2u",
        "outputId": "2e48f193-bf65-4b6d-a9ad-d0b303c8a971"
      },
      "execution_count": null,
      "outputs": [
        {
          "output_type": "execute_result",
          "data": {
            "text/plain": [
              "<matplotlib.legend.Legend at 0x7f6ac8a0ccd0>"
            ]
          },
          "metadata": {},
          "execution_count": 29
        },
        {
          "output_type": "display_data",
          "data": {
            "text/plain": [
              "<Figure size 432x288 with 1 Axes>"
            ],
            "image/png": "[encoded data removed]"
          },
          "metadata": {
            "needs_background": "light"
          }
        }
      ]
    },
    {
      "cell_type": "code",
      "source": [
        "plt.figure()\n",
        "plt.plot(range(num_epoch), train_accs, label=\"train acc\")\n",
        "plt.plot(range(num_epoch), validation_accs, label=\"validation acc\")\n",
        "plt.title(\"train/validation acc vs epoch\")\n",
        "plt.xlabel(\"epoch #\")\n",
        "plt.ylabel(\"acc\")\n",
        "plt.legend()"
      ],
      "metadata": {
        "colab": {
          "base_uri": "https://localhost:8080/",
          "height": 312
        },
        "id": "YfyC-iiAvzSh",
        "outputId": "facc4155-8c20-4cbc-93fd-b2ec9fd701ad"
      },
      "execution_count": null,
      "outputs": [
        {
          "output_type": "execute_result",
          "data": {
            "text/plain": [
              "<matplotlib.legend.Legend at 0x7f6ac8839250>"
            ]
          },
          "metadata": {},
          "execution_count": 30
        },
        {
          "output_type": "display_data",
          "data": {
            "text/plain": [
              "<Figure size 432x288 with 1 Axes>"
            ],
            "image/png": "[encoded data removed]"
          },
          "metadata": {
            "needs_background": "light"
          }
        }
      ]
    },
    {
      "cell_type": "markdown",
      "source": [
        "## Test"
      ],
      "metadata": {
        "id": "AzqHb7nfeX4k"
      }
    },
    {
      "cell_type": "code",
      "source": [
        "train_dataset[0][0].view(-1, 1).shape"
      ],
      "metadata": {
        "colab": {
          "base_uri": "https://localhost:8080/"
        },
        "id": "NiViNQ86AZdQ",
        "outputId": "c2048128-4afc-4663-c8f7-76b4dcf3c42c"
      },
      "execution_count": null,
      "outputs": [
        {
          "output_type": "execute_result",
          "data": {
            "text/plain": [
              "torch.Size([49, 1])"
            ]
          },
          "metadata": {},
          "execution_count": 32
        }
      ]
    },
    {
      "cell_type": "code",
      "source": [
        "torch.sigmoid(network(train_dataset[0][0].view(-1, 1).to(device)))"
      ],
      "metadata": {
        "colab": {
          "base_uri": "https://localhost:8080/"
        },
        "id": "S5wEELJRAJlr",
        "outputId": "c19c526f-fe06-4b34-9a84-b3e177688bfb"
      },
      "execution_count": null,
      "outputs": [
        {
          "output_type": "execute_result",
          "data": {
            "text/plain": [
              "tensor([0.9999], device='cuda:0', grad_fn=<SigmoidBackward0>)"
            ]
          },
          "metadata": {},
          "execution_count": 33
        }
      ]
    },
    {
      "cell_type": "code",
      "source": [
        "def test_baseline(network):\n",
        "    loss_fn = torch.nn.BCEWithLogitsLoss()\n",
        "\n",
        "    epoch_test_loss = 0\n",
        "    epoch_test_acc = 0\n",
        "    for X, y in test_dataloader:\n",
        "        predictions = network(X)\n",
        "        loss = loss_fn(predictions, y.float())\n",
        "        epoch_test_loss += loss.item()\n",
        "\n",
        "        preds = (torch.sigmoid(predictions) > 0.5).float()\n",
        "        epoch_test_acc += ((preds == y).sum() / len(y)).item()\n",
        "    \n",
        "    epoch_test_loss /= len(test_dataloader)\n",
        "    epoch_test_acc /= len(test_dataloader)\n",
        "    \n",
        "    print(\"final test loss: {}\".format(epoch_test_loss))\n",
        "    print(\"final test acc: {}\".format(epoch_test_acc))\n",
        "\n",
        "    print('Finished Testing')"
      ],
      "metadata": {
        "id": "42_NXGmGul-f"
      },
      "execution_count": null,
      "outputs": []
    },
    {
      "cell_type": "code",
      "source": [
        "test_baseline(network)"
      ],
      "metadata": {
        "colab": {
          "base_uri": "https://localhost:8080/"
        },
        "id": "lcLotdAs2jle",
        "outputId": "106500d4-0d4e-4311-ac18-6a333b38fb3f"
      },
      "execution_count": null,
      "outputs": [
        {
          "output_type": "stream",
          "name": "stdout",
          "text": [
            "final test loss: 0.27616305982810446\n",
            "final test acc: 0.8930000060424209\n",
            "Finished Testing\n"
          ]
        }
      ]
    },
    {
      "cell_type": "markdown",
      "source": [
        "## 4.7 Saving and loading your model\n",
        "\n",
        "Save the model for later use. Since my model did not overfit from the result, I just saved the model trained after the last epoch, which achieves the lowest validation loss."
      ],
      "metadata": {
        "id": "sqI_kMKp54r9"
      }
    },
    {
      "cell_type": "code",
      "source": [
        "torch.save(network.state_dict(), 'mlp.pt')"
      ],
      "metadata": {
        "id": "K_WO0oVc54R_"
      },
      "execution_count": null,
      "outputs": []
    }
  ]
}